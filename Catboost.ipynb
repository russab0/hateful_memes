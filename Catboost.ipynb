{
 "cells": [
  {
   "cell_type": "markdown",
   "metadata": {},
   "source": [
    "## Reading dataset"
   ]
  },
  {
   "cell_type": "code",
   "execution_count": 1,
   "metadata": {},
   "outputs": [],
   "source": [
    "import pandas as pd\n",
    "import numpy as np\n",
    "import sklearn\n",
    "import plotly\n",
    "import pathlib"
   ]
  },
  {
   "cell_type": "code",
   "execution_count": 2,
   "metadata": {},
   "outputs": [],
   "source": [
    "from IPython.core.interactiveshell import InteractiveShell\n",
    "InteractiveShell.ast_node_interactivity = \"all\""
   ]
  },
  {
   "cell_type": "code",
   "execution_count": 3,
   "metadata": {},
   "outputs": [],
   "source": [
    "PROJECT_DIR = pathlib.Path().absolute()\n",
    "DATA_DIR = f'{PROJECT_DIR}/data'\n",
    "MODEL_DIR = f'{PROJECT_DIR}/models'\n",
    "\n",
    "RAW_DATA_DIR = f'{DATA_DIR}/raw'\n",
    "RAW_DATA_IMAGES_DIR = f'{DATA_DIR}/raw/img'\n",
    "\n",
    "DEV_DATA_PATH = f'{RAW_DATA_DIR}/dev.jsonl'\n",
    "TRAIN_DATA_PATH = f'{RAW_DATA_DIR}/train.jsonl'\n",
    "TEST_DATA_PATH = f'{RAW_DATA_DIR}/test.jsonl'\n",
    "\n",
    "df = pd.read_json(DEV_DATA_PATH, lines=True).set_index('id')"
   ]
  },
  {
   "cell_type": "code",
   "execution_count": 4,
   "metadata": {},
   "outputs": [
    {
     "data": {
      "text/html": [
       "<div>\n",
       "<style scoped>\n",
       "    .dataframe tbody tr th:only-of-type {\n",
       "        vertical-align: middle;\n",
       "    }\n",
       "\n",
       "    .dataframe tbody tr th {\n",
       "        vertical-align: top;\n",
       "    }\n",
       "\n",
       "    .dataframe thead th {\n",
       "        text-align: right;\n",
       "    }\n",
       "</style>\n",
       "<table border=\"1\" class=\"dataframe\">\n",
       "  <thead>\n",
       "    <tr style=\"text-align: right;\">\n",
       "      <th></th>\n",
       "      <th>img</th>\n",
       "      <th>label</th>\n",
       "      <th>text</th>\n",
       "    </tr>\n",
       "    <tr>\n",
       "      <th>id</th>\n",
       "      <th></th>\n",
       "      <th></th>\n",
       "      <th></th>\n",
       "    </tr>\n",
       "  </thead>\n",
       "  <tbody>\n",
       "    <tr>\n",
       "      <th>8291</th>\n",
       "      <td>img/08291.png</td>\n",
       "      <td>1</td>\n",
       "      <td>white people is this a shooting range</td>\n",
       "    </tr>\n",
       "    <tr>\n",
       "      <th>46971</th>\n",
       "      <td>img/46971.png</td>\n",
       "      <td>1</td>\n",
       "      <td>bravery at its finest</td>\n",
       "    </tr>\n",
       "    <tr>\n",
       "      <th>3745</th>\n",
       "      <td>img/03745.png</td>\n",
       "      <td>1</td>\n",
       "      <td>your order comes to $37.50 and your white priv...</td>\n",
       "    </tr>\n",
       "    <tr>\n",
       "      <th>83745</th>\n",
       "      <td>img/83745.png</td>\n",
       "      <td>1</td>\n",
       "      <td>it is time.. to send these parasites back to t...</td>\n",
       "    </tr>\n",
       "    <tr>\n",
       "      <th>80243</th>\n",
       "      <td>img/80243.png</td>\n",
       "      <td>1</td>\n",
       "      <td>mississippi wind chime</td>\n",
       "    </tr>\n",
       "  </tbody>\n",
       "</table>\n",
       "</div>"
      ],
      "text/plain": [
       "                 img  label                                               text\n",
       "id                                                                            \n",
       "8291   img/08291.png      1              white people is this a shooting range\n",
       "46971  img/46971.png      1                              bravery at its finest\n",
       "3745   img/03745.png      1  your order comes to $37.50 and your white priv...\n",
       "83745  img/83745.png      1  it is time.. to send these parasites back to t...\n",
       "80243  img/80243.png      1                             mississippi wind chime"
      ]
     },
     "execution_count": 4,
     "metadata": {},
     "output_type": "execute_result"
    },
    {
     "data": {
      "text/html": [
       "<div>\n",
       "<style scoped>\n",
       "    .dataframe tbody tr th:only-of-type {\n",
       "        vertical-align: middle;\n",
       "    }\n",
       "\n",
       "    .dataframe tbody tr th {\n",
       "        vertical-align: top;\n",
       "    }\n",
       "\n",
       "    .dataframe thead th {\n",
       "        text-align: right;\n",
       "    }\n",
       "</style>\n",
       "<table border=\"1\" class=\"dataframe\">\n",
       "  <thead>\n",
       "    <tr style=\"text-align: right;\">\n",
       "      <th></th>\n",
       "      <th>label</th>\n",
       "    </tr>\n",
       "  </thead>\n",
       "  <tbody>\n",
       "    <tr>\n",
       "      <th>count</th>\n",
       "      <td>500.000000</td>\n",
       "    </tr>\n",
       "    <tr>\n",
       "      <th>mean</th>\n",
       "      <td>0.500000</td>\n",
       "    </tr>\n",
       "    <tr>\n",
       "      <th>std</th>\n",
       "      <td>0.500501</td>\n",
       "    </tr>\n",
       "    <tr>\n",
       "      <th>min</th>\n",
       "      <td>0.000000</td>\n",
       "    </tr>\n",
       "    <tr>\n",
       "      <th>25%</th>\n",
       "      <td>0.000000</td>\n",
       "    </tr>\n",
       "    <tr>\n",
       "      <th>50%</th>\n",
       "      <td>0.500000</td>\n",
       "    </tr>\n",
       "    <tr>\n",
       "      <th>75%</th>\n",
       "      <td>1.000000</td>\n",
       "    </tr>\n",
       "    <tr>\n",
       "      <th>max</th>\n",
       "      <td>1.000000</td>\n",
       "    </tr>\n",
       "  </tbody>\n",
       "</table>\n",
       "</div>"
      ],
      "text/plain": [
       "            label\n",
       "count  500.000000\n",
       "mean     0.500000\n",
       "std      0.500501\n",
       "min      0.000000\n",
       "25%      0.000000\n",
       "50%      0.500000\n",
       "75%      1.000000\n",
       "max      1.000000"
      ]
     },
     "execution_count": 4,
     "metadata": {},
     "output_type": "execute_result"
    },
    {
     "name": "stdout",
     "output_type": "stream",
     "text": [
      "<class 'pandas.core.frame.DataFrame'>\n",
      "Int64Index: 500 entries, 8291 to 97320\n",
      "Data columns (total 3 columns):\n",
      " #   Column  Non-Null Count  Dtype \n",
      "---  ------  --------------  ----- \n",
      " 0   img     500 non-null    object\n",
      " 1   label   500 non-null    int64 \n",
      " 2   text    500 non-null    object\n",
      "dtypes: int64(1), object(2)\n",
      "memory usage: 15.6+ KB\n"
     ]
    }
   ],
   "source": [
    "df.head()\n",
    "df.describe()\n",
    "df.info()"
   ]
  },
  {
   "cell_type": "code",
   "execution_count": 5,
   "metadata": {},
   "outputs": [
    {
     "data": {
      "text/plain": [
       "250"
      ]
     },
     "execution_count": 5,
     "metadata": {},
     "output_type": "execute_result"
    }
   ],
   "source": [
    "(df['label'] == 0).sum()"
   ]
  },
  {
   "cell_type": "markdown",
   "metadata": {},
   "source": [
    "## doc2vec"
   ]
  },
  {
   "cell_type": "code",
   "execution_count": 6,
   "metadata": {},
   "outputs": [],
   "source": [
    "#!conda install -y gensim "
   ]
  },
  {
   "cell_type": "code",
   "execution_count": 7,
   "metadata": {},
   "outputs": [
    {
     "data": {
      "text/plain": [
       "'from gensim.models.doc2vec import Doc2Vec\\n\\n\\ndoc2vec = Doc2Vec.load(f\\'{MODELS_DIR}/doc2vec_apnews_dbow/doc2vec.bin\\', mmap=None)\\n\\nprint(type(model))\\nprint(type(model.infer_vector([\"to\", \"be\", \"or\", \"not\"])))\\nprint(model.infer_vector([\"to\", \"be\", \"or\", \"not\"]).shape)\\n\\ntext_vec = np.array([\\n    doc2vec.infer_vector(sent.split()) \\n    for sent in df[\\'text\\']\\n])\\ntext_vec[0]'"
      ]
     },
     "execution_count": 7,
     "metadata": {},
     "output_type": "execute_result"
    }
   ],
   "source": [
    "\"\"\"from gensim.models.doc2vec import Doc2Vec\n",
    "\n",
    "\n",
    "doc2vec = Doc2Vec.load(f'{MODELS_DIR}/doc2vec_apnews_dbow/doc2vec.bin', mmap=None)\n",
    "\n",
    "print(type(model))\n",
    "print(type(model.infer_vector([\"to\", \"be\", \"or\", \"not\"])))\n",
    "print(model.infer_vector([\"to\", \"be\", \"or\", \"not\"]).shape)\n",
    "\n",
    "text_vec = np.array([\n",
    "    doc2vec.infer_vector(sent.split()) \n",
    "    for sent in df['text']\n",
    "])\n",
    "text_vec[0]\"\"\""
   ]
  },
  {
   "cell_type": "markdown",
   "metadata": {},
   "source": [
    "### Catboost"
   ]
  },
  {
   "cell_type": "code",
   "execution_count": 8,
   "metadata": {},
   "outputs": [
    {
     "name": "stdout",
     "output_type": "stream",
     "text": [
      "Requirement already satisfied: catboost in /home/sabzirov/miniconda/lib/python3.7/site-packages (0.23.1)\n",
      "Requirement already satisfied: graphviz in /home/sabzirov/miniconda/lib/python3.7/site-packages (from catboost) (0.14)\n",
      "Requirement already satisfied: plotly in /home/sabzirov/miniconda/lib/python3.7/site-packages (from catboost) (4.7.1)\n",
      "Requirement already satisfied: matplotlib in /home/sabzirov/miniconda/lib/python3.7/site-packages (from catboost) (3.2.1)\n",
      "Requirement already satisfied: pandas>=0.24.0 in /home/sabzirov/miniconda/lib/python3.7/site-packages (from catboost) (1.1.2)\n",
      "Requirement already satisfied: numpy>=1.16.0 in /home/sabzirov/miniconda/lib/python3.7/site-packages (from catboost) (1.18.2)\n",
      "Requirement already satisfied: scipy in /home/sabzirov/miniconda/lib/python3.7/site-packages (from catboost) (1.4.1)\n",
      "Requirement already satisfied: six in /home/sabzirov/miniconda/lib/python3.7/site-packages (from catboost) (1.11.0)\n",
      "Requirement already satisfied: retrying>=1.3.3 in /home/sabzirov/miniconda/lib/python3.7/site-packages (from plotly->catboost) (1.3.3)\n",
      "Requirement already satisfied: kiwisolver>=1.0.1 in /home/sabzirov/miniconda/lib/python3.7/site-packages (from matplotlib->catboost) (1.2.0)\n",
      "Requirement already satisfied: python-dateutil>=2.1 in /home/sabzirov/miniconda/lib/python3.7/site-packages (from matplotlib->catboost) (2.8.1)\n",
      "Requirement already satisfied: cycler>=0.10 in /home/sabzirov/miniconda/lib/python3.7/site-packages (from matplotlib->catboost) (0.10.0)\n",
      "Requirement already satisfied: pyparsing!=2.0.4,!=2.1.2,!=2.1.6,>=2.0.1 in /home/sabzirov/miniconda/lib/python3.7/site-packages (from matplotlib->catboost) (2.4.7)\n",
      "Requirement already satisfied: pytz>=2017.2 in /home/sabzirov/miniconda/lib/python3.7/site-packages (from pandas>=0.24.0->catboost) (2020.1)\n"
     ]
    }
   ],
   "source": [
    "!pip install catboost"
   ]
  },
  {
   "cell_type": "code",
   "execution_count": 14,
   "metadata": {
    "scrolled": true
   },
   "outputs": [],
   "source": [
    "df = pd.read_pickle('learning_df.pickle')"
   ]
  },
  {
   "cell_type": "code",
   "execution_count": null,
   "metadata": {},
   "outputs": [],
   "source": [
    "import pickle\n",
    "pickle.__version__"
   ]
  },
  {
   "cell_type": "code",
   "execution_count": null,
   "metadata": {},
   "outputs": [],
   "source": [
    "!which python"
   ]
  },
  {
   "cell_type": "code",
   "execution_count": 35,
   "metadata": {},
   "outputs": [
    {
     "data": {
      "text/html": [
       "<div>\n",
       "<style scoped>\n",
       "    .dataframe tbody tr th:only-of-type {\n",
       "        vertical-align: middle;\n",
       "    }\n",
       "\n",
       "    .dataframe tbody tr th {\n",
       "        vertical-align: top;\n",
       "    }\n",
       "\n",
       "    .dataframe thead th {\n",
       "        text-align: right;\n",
       "    }\n",
       "</style>\n",
       "<table border=\"1\" class=\"dataframe\">\n",
       "  <thead>\n",
       "    <tr style=\"text-align: right;\">\n",
       "      <th></th>\n",
       "      <th>text_vector</th>\n",
       "      <th>image_vector</th>\n",
       "      <th>label</th>\n",
       "      <th>split</th>\n",
       "    </tr>\n",
       "    <tr>\n",
       "      <th>id</th>\n",
       "      <th></th>\n",
       "      <th></th>\n",
       "      <th></th>\n",
       "      <th></th>\n",
       "    </tr>\n",
       "  </thead>\n",
       "  <tbody>\n",
       "    <tr>\n",
       "      <th>42953</th>\n",
       "      <td>[0.016919259, -0.00021079188, 0.009964041, -0....</td>\n",
       "      <td>[9.243041745321534e-07, 0.0010814660927280784,...</td>\n",
       "      <td>False</td>\n",
       "      <td>train</td>\n",
       "    </tr>\n",
       "    <tr>\n",
       "      <th>23058</th>\n",
       "      <td>[-0.0066814492, -0.001092712, -0.008013967, -0...</td>\n",
       "      <td>[4.7280764192692e-06, 0.0002732583088800311, 5...</td>\n",
       "      <td>False</td>\n",
       "      <td>train</td>\n",
       "    </tr>\n",
       "    <tr>\n",
       "      <th>13894</th>\n",
       "      <td>[0.016481217, 0.0013785894, 0.006280863, -0.00...</td>\n",
       "      <td>[1.44773900956352e-06, 1.3311026123119518e-05,...</td>\n",
       "      <td>False</td>\n",
       "      <td>train</td>\n",
       "    </tr>\n",
       "    <tr>\n",
       "      <th>37408</th>\n",
       "      <td>[0.03513853, -0.0050902003, 0.021591008, -0.00...</td>\n",
       "      <td>[2.800878974085208e-06, 3.871678563882597e-05,...</td>\n",
       "      <td>False</td>\n",
       "      <td>train</td>\n",
       "    </tr>\n",
       "    <tr>\n",
       "      <th>82403</th>\n",
       "      <td>[0.035496537, -0.0066635055, 0.015653217, -0.0...</td>\n",
       "      <td>[1.6485433889101841e-06, 0.0007236988167278469...</td>\n",
       "      <td>False</td>\n",
       "      <td>train</td>\n",
       "    </tr>\n",
       "    <tr>\n",
       "      <th>...</th>\n",
       "      <td>...</td>\n",
       "      <td>...</td>\n",
       "      <td>...</td>\n",
       "      <td>...</td>\n",
       "    </tr>\n",
       "    <tr>\n",
       "      <th>3869</th>\n",
       "      <td>[0.0015596877, -0.002792775, -0.0029634463, 0....</td>\n",
       "      <td>[3.028519017789222e-07, 6.190018211782444e-06,...</td>\n",
       "      <td>True</td>\n",
       "      <td>test</td>\n",
       "    </tr>\n",
       "    <tr>\n",
       "      <th>23817</th>\n",
       "      <td>[0.007935097, -0.005352141, 0.008347955, 0.002...</td>\n",
       "      <td>[4.958599575388689e-08, 6.375514089995704e-07,...</td>\n",
       "      <td>True</td>\n",
       "      <td>test</td>\n",
       "    </tr>\n",
       "    <tr>\n",
       "      <th>56280</th>\n",
       "      <td>[0.002048317, 0.0038520799, 0.0025279035, 0.00...</td>\n",
       "      <td>[6.673790630884469e-05, 0.006667210254818201, ...</td>\n",
       "      <td>True</td>\n",
       "      <td>test</td>\n",
       "    </tr>\n",
       "    <tr>\n",
       "      <th>29384</th>\n",
       "      <td>[-0.002446384, -0.0037096422, -0.00034674676, ...</td>\n",
       "      <td>[2.6612129659042694e-05, 0.0003297853982076049...</td>\n",
       "      <td>True</td>\n",
       "      <td>test</td>\n",
       "    </tr>\n",
       "    <tr>\n",
       "      <th>34127</th>\n",
       "      <td>[0.0055032247, -0.00016221132, 0.0068908236, 0...</td>\n",
       "      <td>[1.7552205235915608e-06, 0.0005712925922125578...</td>\n",
       "      <td>True</td>\n",
       "      <td>test</td>\n",
       "    </tr>\n",
       "  </tbody>\n",
       "</table>\n",
       "<p>10000 rows × 4 columns</p>\n",
       "</div>"
      ],
      "text/plain": [
       "                                             text_vector  \\\n",
       "id                                                         \n",
       "42953  [0.016919259, -0.00021079188, 0.009964041, -0....   \n",
       "23058  [-0.0066814492, -0.001092712, -0.008013967, -0...   \n",
       "13894  [0.016481217, 0.0013785894, 0.006280863, -0.00...   \n",
       "37408  [0.03513853, -0.0050902003, 0.021591008, -0.00...   \n",
       "82403  [0.035496537, -0.0066635055, 0.015653217, -0.0...   \n",
       "...                                                  ...   \n",
       "3869   [0.0015596877, -0.002792775, -0.0029634463, 0....   \n",
       "23817  [0.007935097, -0.005352141, 0.008347955, 0.002...   \n",
       "56280  [0.002048317, 0.0038520799, 0.0025279035, 0.00...   \n",
       "29384  [-0.002446384, -0.0037096422, -0.00034674676, ...   \n",
       "34127  [0.0055032247, -0.00016221132, 0.0068908236, 0...   \n",
       "\n",
       "                                            image_vector  label  split  \n",
       "id                                                                      \n",
       "42953  [9.243041745321534e-07, 0.0010814660927280784,...  False  train  \n",
       "23058  [4.7280764192692e-06, 0.0002732583088800311, 5...  False  train  \n",
       "13894  [1.44773900956352e-06, 1.3311026123119518e-05,...  False  train  \n",
       "37408  [2.800878974085208e-06, 3.871678563882597e-05,...  False  train  \n",
       "82403  [1.6485433889101841e-06, 0.0007236988167278469...  False  train  \n",
       "...                                                  ...    ...    ...  \n",
       "3869   [3.028519017789222e-07, 6.190018211782444e-06,...   True   test  \n",
       "23817  [4.958599575388689e-08, 6.375514089995704e-07,...   True   test  \n",
       "56280  [6.673790630884469e-05, 0.006667210254818201, ...   True   test  \n",
       "29384  [2.6612129659042694e-05, 0.0003297853982076049...   True   test  \n",
       "34127  [1.7552205235915608e-06, 0.0005712925922125578...   True   test  \n",
       "\n",
       "[10000 rows x 4 columns]"
      ]
     },
     "execution_count": 35,
     "metadata": {},
     "output_type": "execute_result"
    }
   ],
   "source": [
    "df = pd.read_pickle('learning_df.pickle')\n",
    "df"
   ]
  },
  {
   "cell_type": "code",
   "execution_count": 92,
   "metadata": {},
   "outputs": [],
   "source": [
    "learning_df = df\n",
    "\n",
    "text_vector = np.array([vector for vector in learning_df.text_vector], dtype=np.float32)\n",
    "image_vector = np.array([vector for vector in learning_df.image_vector], dtype=np.float32)\n",
    "X = np.concatenate([text_vector, image_vector], axis=-1)\n",
    "Y = learning_df.label\n",
    "train_data, dev_data, test_data = X[learning_df.split == 'train'], X[learning_df.split == 'dev'], X[learning_df.split == 'test']\n",
    "train_labels, dev_labels, test_labels = Y[learning_df.split == 'train'], Y[learning_df.split == 'dev'], Y[learning_df.split == 'test']\n",
    "\n",
    "train_labels, dev_labels, test_labels = train_labels.astype(int), dev_labels.astype(int), test_labels.astype(int)"
   ]
  },
  {
   "cell_type": "code",
   "execution_count": 94,
   "metadata": {},
   "outputs": [
    {
     "data": {
      "text/plain": [
       "id\n",
       "42953    0\n",
       "23058    0\n",
       "13894    0\n",
       "37408    0\n",
       "82403    0\n",
       "        ..\n",
       "10423    1\n",
       "98203    1\n",
       "36947    1\n",
       "16492    1\n",
       "15937    1\n",
       "Name: label, Length: 8500, dtype: int64"
      ]
     },
     "execution_count": 94,
     "metadata": {},
     "output_type": "execute_result"
    }
   ],
   "source": [
    "train_labels"
   ]
  },
  {
   "cell_type": "code",
   "execution_count": 70,
   "metadata": {},
   "outputs": [
    {
     "data": {
      "text/plain": [
       "(5450, 8500)"
      ]
     },
     "execution_count": 70,
     "metadata": {},
     "output_type": "execute_result"
    }
   ],
   "source": [
    "(train_labels == 0).sum(), len(train_labels)"
   ]
  },
  {
   "cell_type": "code",
   "execution_count": 95,
   "metadata": {},
   "outputs": [],
   "source": [
    "from sklearn.metrics import roc_auc_score, accuracy_score\n",
    "\n",
    "\n",
    "def evaluate(model, X, y):\n",
    "    y_pred_prob = model.predict_proba(X)\n",
    "    y_pred_prob = y_pred_prob[:, 1]\n",
    "    y_pred = model.predict(X)\n",
    "    y = [int(_) for _ in y]\n",
    "    y_pred = [int(_) for _ in y_pred]\n",
    "    accur = accuracy_score(y, y_pred)\n",
    "    roc_auc = roc_auc_score(y, y_pred_prob)\n",
    "    return accur"
   ]
  },
  {
   "cell_type": "code",
   "execution_count": null,
   "metadata": {},
   "outputs": [],
   "source": [
    "from catboost import CatBoostClassifier\n",
    "\n",
    "model = CatBoostClassifier(n_estimators=60, \n",
    "                           depth=10,\n",
    "                           learning_rate=1,\n",
    "                           #custom_metric=['AUC'],\n",
    "                           #eval_metric='AUC',\n",
    "                           verbose=True, \n",
    "                           random_seed=42)\n",
    "\n",
    "model.fit(train_data,\n",
    "          train_labels,\n",
    "          verbose=True)\n",
    "\n",
    "evaluate(model, train_data, train_labels)\n",
    "evaluate(model, dev_data, dev_labels)"
   ]
  },
  {
   "cell_type": "code",
   "execution_count": null,
   "metadata": {},
   "outputs": [
    {
     "name": "stdout",
     "output_type": "stream",
     "text": [
      "Fitting 3 folds for each of 2 candidates, totalling 6 fits\n"
     ]
    },
    {
     "name": "stderr",
     "output_type": "stream",
     "text": [
      "[Parallel(n_jobs=1)]: Using backend SequentialBackend with 1 concurrent workers.\n"
     ]
    }
   ],
   "source": [
    "from sklearn.model_selection import RandomizedSearchCV\n",
    "\n",
    "\n",
    "model = CatBoostClassifier(\n",
    "    #custom_metric=['AUC'],\n",
    "    #eval_metric='AUC',\n",
    "    verbose=False,\n",
    "    random_seed=42,\n",
    ")\n",
    "\n",
    "grid = {\n",
    "    'n_estimators': (15, 20, 25, 30, 35),\n",
    "    'learning_rate': (0.1, 0.3, 0.5, 0.7, 0.9),\n",
    "    'depth': (5, 10, 15)\n",
    "}\n",
    "rscv = RandomizedSearchCV(model, grid, random_state=42, verbose=1, cv=3,\n",
    "                         n_iter=2)\n",
    "search = rscv.fit(train_data, train_labels)\n",
    "\n",
    "search.best_params_\n",
    "\n",
    "search.cv_results_\n",
    "\n",
    "'train', evaluate(search.best_estimator_, train_data, train_labels)\n",
    "'valid', evaluate(search.best_estimator_, dev_data, dev_labels)"
   ]
  }
 ],
 "metadata": {
  "kernelspec": {
   "display_name": ".venv",
   "language": "python",
   "name": ".venv"
  },
  "language_info": {
   "codemirror_mode": {
    "name": "ipython",
    "version": 3
   },
   "file_extension": ".py",
   "mimetype": "text/x-python",
   "name": "python",
   "nbconvert_exporter": "python",
   "pygments_lexer": "ipython3",
   "version": "3.7.0"
  }
 },
 "nbformat": 4,
 "nbformat_minor": 4
}
