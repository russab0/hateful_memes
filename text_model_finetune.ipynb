{
 "cells": [
  {
   "cell_type": "code",
   "execution_count": 2,
   "metadata": {},
   "outputs": [],
   "source": [
    "from tqdm import tqdm\n",
    "import numpy as np\n",
    "import pandas as pd\n",
    "import torch\n",
    "from torch.utils.data import Dataset, DataLoader\n",
    "import transformers\n",
    "from sklearn.metrics import accuracy_score, precision_score, recall_score, f1_score, classification_report\n",
    "\n",
    "def print_parameters(model):\n",
    "    total_params = sum(p.numel() for p in model.parameters())\n",
    "    trainable_params = sum(p.numel() for p in model.parameters() if p.requires_grad)\n",
    "    print(f\"Total_params:          {total_params}\\n\"\n",
    "          f\"Trainable_params:      {trainable_params}\\n\"\n",
    "          f\"Non-trainable_params:  {total_params-trainable_params}\")\n",
    "\n",
    "device = torch.device('cuda:1')\n",
    "\n",
    "train_df = pd.read_json(\"data/train.jsonl\", lines=True)\n",
    "train_df = pd.DataFrame(train_df, columns=['text', 'label'])\n",
    "dev_df = pd.read_json(\"data/dev.jsonl\", lines=True)\n",
    "dev_df = pd.DataFrame(dev_df, columns=['text', 'label'])"
   ]
  },
  {
   "cell_type": "code",
   "execution_count": 3,
   "metadata": {},
   "outputs": [],
   "source": [
    "class DataframeDataset(Dataset):\n",
    "\n",
    "    def __init__(self, dataframe):\n",
    "        self.dataframe = dataframe\n",
    "\n",
    "    def __len__(self):\n",
    "        return len(self.dataframe)\n",
    "\n",
    "    def __getitem__(self, idx):\n",
    "        if torch.is_tensor(idx):\n",
    "            idx = idx.tolist()\n",
    "        row = self.dataframe.iloc[idx]\n",
    "        return {'text': row.text, 'label': row.label}"
   ]
  },
  {
   "cell_type": "code",
   "execution_count": 4,
   "metadata": {},
   "outputs": [],
   "source": [
    "def test_model(model, dataframe):\n",
    "    model.eval()\n",
    "    preds = []\n",
    "    targets = []\n",
    "    loss = 0\n",
    "    loop = tqdm(DataLoader(DataframeDataset(dataframe), batch_size=32))\n",
    "    for batch in loop:\n",
    "        output = tokenizer(batch['text'], padding=True, return_tensors='pt').to(device)\n",
    "        input_ids = output['input_ids'].to(device)\n",
    "        attention_mask = output['attention_mask'].to(device)\n",
    "        labels = batch['label'].to(device)\n",
    "        result = model(input_ids, attention_mask=attention_mask, labels=labels)\n",
    "        loss += result.loss.item()\n",
    "        logits = result.logits\n",
    "        preds.extend(torch.argmax(logits,axis=1).cpu().tolist())\n",
    "        targets.extend(labels.cpu().tolist())\n",
    "    \n",
    "    loss /= len(loop)\n",
    "    print(\"Mean loss: \", loss)\n",
    "    print(\"Accuracy: \", accuracy_score(targets, preds))\n",
    "    print(classification_report(targets, preds))\n",
    "    return accuracy_score(targets, preds)"
   ]
  },
  {
   "cell_type": "code",
   "execution_count": 5,
   "metadata": {},
   "outputs": [
    {
     "name": "stdout",
     "output_type": "stream",
     "text": [
      "Total_params:          167357954\n",
      "Trainable_params:      167357954\n",
      "Non-trainable_params:  0\n"
     ]
    }
   ],
   "source": [
    "model_name = 'Hate-speech-CNERG/dehatebert-mono-english'\n",
    "model = transformers.AutoModelForSequenceClassification.from_pretrained(model_name, return_dict=True)\n",
    "model = model.to(device)\n",
    "tokenizer = transformers.AutoTokenizer.from_pretrained(model_name)\n",
    "\n",
    "# trainable_params = ['classifier.dense.weight', 'classifier.dense.bias', 'classifier.out_proj.weight', 'classifier.out_proj.bias']\n",
    "\n",
    "# for param_name, param in model.named_parameters():\n",
    "#     if param_name in trainable_params:\n",
    "#         param.requires_grad = True\n",
    "#     else:\n",
    "#         param.requires_grad = False\n",
    "        \n",
    "print_parameters(model)"
   ]
  },
  {
   "cell_type": "code",
   "execution_count": 8,
   "metadata": {},
   "outputs": [
    {
     "name": "stderr",
     "output_type": "stream",
     "text": [
      "100%|██████████| 16/16 [00:00<00:00, 22.16it/s]\n",
      "  0%|          | 0/133 [00:00<?, ?it/s, loss=0.401]"
     ]
    },
    {
     "name": "stdout",
     "output_type": "stream",
     "text": [
      "Mean loss:  0.9192260634154081\n",
      "Accuracy:  0.548\n",
      "              precision    recall  f1-score   support\n",
      "\n",
      "           0       0.53      0.89      0.66       250\n",
      "           1       0.65      0.21      0.32       250\n",
      "\n",
      "    accuracy                           0.55       500\n",
      "   macro avg       0.59      0.55      0.49       500\n",
      "weighted avg       0.59      0.55      0.49       500\n",
      "\n"
     ]
    },
    {
     "name": "stderr",
     "output_type": "stream",
     "text": [
      "100%|██████████| 133/133 [00:37<00:00,  3.54it/s, loss=0.472]\n",
      " 19%|█▉        | 3/16 [00:00<00:00, 21.14it/s]"
     ]
    },
    {
     "name": "stdout",
     "output_type": "stream",
     "text": [
      "Epoch:  1\n"
     ]
    },
    {
     "name": "stderr",
     "output_type": "stream",
     "text": [
      "100%|██████████| 16/16 [00:00<00:00, 23.24it/s]\n",
      "  0%|          | 0/133 [00:00<?, ?it/s, loss=0.501]"
     ]
    },
    {
     "name": "stdout",
     "output_type": "stream",
     "text": [
      "Mean loss:  0.8415568955242634\n",
      "Accuracy:  0.56\n",
      "              precision    recall  f1-score   support\n",
      "\n",
      "           0       0.54      0.80      0.65       250\n",
      "           1       0.62      0.32      0.42       250\n",
      "\n",
      "    accuracy                           0.56       500\n",
      "   macro avg       0.58      0.56      0.53       500\n",
      "weighted avg       0.58      0.56      0.53       500\n",
      "\n"
     ]
    },
    {
     "name": "stderr",
     "output_type": "stream",
     "text": [
      "100%|██████████| 133/133 [00:37<00:00,  3.55it/s, loss=0.469]\n",
      " 19%|█▉        | 3/16 [00:00<00:00, 21.23it/s]"
     ]
    },
    {
     "name": "stdout",
     "output_type": "stream",
     "text": [
      "Epoch:  2\n"
     ]
    },
    {
     "name": "stderr",
     "output_type": "stream",
     "text": [
      "100%|██████████| 16/16 [00:00<00:00, 23.25it/s]\n",
      "  0%|          | 0/133 [00:00<?, ?it/s, loss=0.493]"
     ]
    },
    {
     "name": "stdout",
     "output_type": "stream",
     "text": [
      "Mean loss:  0.8086190409958363\n",
      "Accuracy:  0.558\n",
      "              precision    recall  f1-score   support\n",
      "\n",
      "           0       0.55      0.70      0.61       250\n",
      "           1       0.58      0.42      0.49       250\n",
      "\n",
      "    accuracy                           0.56       500\n",
      "   macro avg       0.56      0.56      0.55       500\n",
      "weighted avg       0.56      0.56      0.55       500\n",
      "\n"
     ]
    },
    {
     "name": "stderr",
     "output_type": "stream",
     "text": [
      "100%|██████████| 133/133 [00:37<00:00,  3.51it/s, loss=0.481]\n",
      " 19%|█▉        | 3/16 [00:00<00:00, 21.28it/s]"
     ]
    },
    {
     "name": "stdout",
     "output_type": "stream",
     "text": [
      "Epoch:  3\n"
     ]
    },
    {
     "name": "stderr",
     "output_type": "stream",
     "text": [
      "100%|██████████| 16/16 [00:00<00:00, 23.19it/s]\n",
      "  0%|          | 0/133 [00:00<?, ?it/s, loss=0.408]"
     ]
    },
    {
     "name": "stdout",
     "output_type": "stream",
     "text": [
      "Mean loss:  0.9952378012239933\n",
      "Accuracy:  0.548\n",
      "              precision    recall  f1-score   support\n",
      "\n",
      "           0       0.53      0.91      0.67       250\n",
      "           1       0.68      0.18      0.29       250\n",
      "\n",
      "    accuracy                           0.55       500\n",
      "   macro avg       0.60      0.55      0.48       500\n",
      "weighted avg       0.60      0.55      0.48       500\n",
      "\n"
     ]
    },
    {
     "name": "stderr",
     "output_type": "stream",
     "text": [
      "100%|██████████| 133/133 [00:38<00:00,  3.49it/s, loss=0.494]\n",
      " 19%|█▉        | 3/16 [00:00<00:00, 20.77it/s]"
     ]
    },
    {
     "name": "stdout",
     "output_type": "stream",
     "text": [
      "Epoch:  4\n"
     ]
    },
    {
     "name": "stderr",
     "output_type": "stream",
     "text": [
      "100%|██████████| 16/16 [00:00<00:00, 22.97it/s]\n",
      "  0%|          | 0/133 [00:00<?, ?it/s, loss=0.482]"
     ]
    },
    {
     "name": "stdout",
     "output_type": "stream",
     "text": [
      "Mean loss:  0.8403174225240946\n",
      "Accuracy:  0.568\n",
      "              precision    recall  f1-score   support\n",
      "\n",
      "           0       0.55      0.79      0.65       250\n",
      "           1       0.62      0.35      0.45       250\n",
      "\n",
      "    accuracy                           0.57       500\n",
      "   macro avg       0.58      0.57      0.55       500\n",
      "weighted avg       0.58      0.57      0.55       500\n",
      "\n"
     ]
    },
    {
     "name": "stderr",
     "output_type": "stream",
     "text": [
      "100%|██████████| 133/133 [00:38<00:00,  3.48it/s, loss=0.52] \n",
      " 19%|█▉        | 3/16 [00:00<00:00, 21.04it/s]"
     ]
    },
    {
     "name": "stdout",
     "output_type": "stream",
     "text": [
      "Epoch:  5\n"
     ]
    },
    {
     "name": "stderr",
     "output_type": "stream",
     "text": [
      "100%|██████████| 16/16 [00:00<00:00, 23.17it/s]\n",
      "  0%|          | 0/133 [00:00<?, ?it/s, loss=0.352]"
     ]
    },
    {
     "name": "stdout",
     "output_type": "stream",
     "text": [
      "Mean loss:  0.8609078228473663\n",
      "Accuracy:  0.546\n",
      "              precision    recall  f1-score   support\n",
      "\n",
      "           0       0.53      0.89      0.66       250\n",
      "           1       0.65      0.20      0.31       250\n",
      "\n",
      "    accuracy                           0.55       500\n",
      "   macro avg       0.59      0.55      0.48       500\n",
      "weighted avg       0.59      0.55      0.48       500\n",
      "\n"
     ]
    },
    {
     "name": "stderr",
     "output_type": "stream",
     "text": [
      "100%|██████████| 133/133 [00:38<00:00,  3.45it/s, loss=0.516]\n",
      " 19%|█▉        | 3/16 [00:00<00:00, 21.02it/s]"
     ]
    },
    {
     "name": "stdout",
     "output_type": "stream",
     "text": [
      "Epoch:  6\n"
     ]
    },
    {
     "name": "stderr",
     "output_type": "stream",
     "text": [
      "100%|██████████| 16/16 [00:00<00:00, 23.08it/s]\n",
      "  0%|          | 0/133 [00:00<?, ?it/s, loss=0.451]"
     ]
    },
    {
     "name": "stdout",
     "output_type": "stream",
     "text": [
      "Mean loss:  0.7073245905339718\n",
      "Accuracy:  0.572\n",
      "              precision    recall  f1-score   support\n",
      "\n",
      "           0       0.55      0.74      0.63       250\n",
      "           1       0.61      0.40      0.48       250\n",
      "\n",
      "    accuracy                           0.57       500\n",
      "   macro avg       0.58      0.57      0.56       500\n",
      "weighted avg       0.58      0.57      0.56       500\n",
      "\n"
     ]
    },
    {
     "name": "stderr",
     "output_type": "stream",
     "text": [
      "100%|██████████| 133/133 [00:38<00:00,  3.48it/s, loss=0.501]\n",
      " 19%|█▉        | 3/16 [00:00<00:00, 20.81it/s]"
     ]
    },
    {
     "name": "stdout",
     "output_type": "stream",
     "text": [
      "Epoch:  7\n"
     ]
    },
    {
     "name": "stderr",
     "output_type": "stream",
     "text": [
      "100%|██████████| 16/16 [00:00<00:00, 23.19it/s]\n",
      "  0%|          | 0/133 [00:00<?, ?it/s, loss=0.514]"
     ]
    },
    {
     "name": "stdout",
     "output_type": "stream",
     "text": [
      "Mean loss:  0.9740365017205477\n",
      "Accuracy:  0.512\n",
      "              precision    recall  f1-score   support\n",
      "\n",
      "           0       0.51      0.98      0.67       250\n",
      "           1       0.71      0.04      0.08       250\n",
      "\n",
      "    accuracy                           0.51       500\n",
      "   macro avg       0.61      0.51      0.37       500\n",
      "weighted avg       0.61      0.51      0.37       500\n",
      "\n"
     ]
    },
    {
     "name": "stderr",
     "output_type": "stream",
     "text": [
      "100%|██████████| 133/133 [00:37<00:00,  3.52it/s, loss=0.478]\n",
      " 19%|█▉        | 3/16 [00:00<00:00, 20.39it/s]"
     ]
    },
    {
     "name": "stdout",
     "output_type": "stream",
     "text": [
      "Epoch:  8\n"
     ]
    },
    {
     "name": "stderr",
     "output_type": "stream",
     "text": [
      "100%|██████████| 16/16 [00:00<00:00, 22.91it/s]\n",
      "  0%|          | 0/133 [00:00<?, ?it/s, loss=0.486]"
     ]
    },
    {
     "name": "stdout",
     "output_type": "stream",
     "text": [
      "Mean loss:  0.8273804374039173\n",
      "Accuracy:  0.596\n",
      "              precision    recall  f1-score   support\n",
      "\n",
      "           0       0.59      0.62      0.61       250\n",
      "           1       0.60      0.57      0.59       250\n",
      "\n",
      "    accuracy                           0.60       500\n",
      "   macro avg       0.60      0.60      0.60       500\n",
      "weighted avg       0.60      0.60      0.60       500\n",
      "\n"
     ]
    },
    {
     "name": "stderr",
     "output_type": "stream",
     "text": [
      "100%|██████████| 133/133 [00:37<00:00,  3.55it/s, loss=0.488]\n",
      " 19%|█▉        | 3/16 [00:00<00:00, 20.73it/s]"
     ]
    },
    {
     "name": "stdout",
     "output_type": "stream",
     "text": [
      "Epoch:  9\n"
     ]
    },
    {
     "name": "stderr",
     "output_type": "stream",
     "text": [
      "100%|██████████| 16/16 [00:00<00:00, 22.98it/s]\n",
      "  0%|          | 0/133 [00:00<?, ?it/s, loss=0.48]"
     ]
    },
    {
     "name": "stdout",
     "output_type": "stream",
     "text": [
      "Mean loss:  1.0892210602760315\n",
      "Accuracy:  0.576\n",
      "              precision    recall  f1-score   support\n",
      "\n",
      "           0       0.56      0.70      0.62       250\n",
      "           1       0.60      0.46      0.52       250\n",
      "\n",
      "    accuracy                           0.58       500\n",
      "   macro avg       0.58      0.58      0.57       500\n",
      "weighted avg       0.58      0.58      0.57       500\n",
      "\n"
     ]
    },
    {
     "name": "stderr",
     "output_type": "stream",
     "text": [
      "100%|██████████| 133/133 [00:37<00:00,  3.53it/s, loss=0.479]\n",
      " 19%|█▉        | 3/16 [00:00<00:00, 21.05it/s]"
     ]
    },
    {
     "name": "stdout",
     "output_type": "stream",
     "text": [
      "Epoch:  10\n"
     ]
    },
    {
     "name": "stderr",
     "output_type": "stream",
     "text": [
      "100%|██████████| 16/16 [00:00<00:00, 23.13it/s]\n",
      "  0%|          | 0/133 [00:00<?, ?it/s, loss=0.356]"
     ]
    },
    {
     "name": "stdout",
     "output_type": "stream",
     "text": [
      "Mean loss:  0.9603852517902851\n",
      "Accuracy:  0.554\n",
      "              precision    recall  f1-score   support\n",
      "\n",
      "           0       0.54      0.78      0.64       250\n",
      "           1       0.60      0.32      0.42       250\n",
      "\n",
      "    accuracy                           0.55       500\n",
      "   macro avg       0.57      0.55      0.53       500\n",
      "weighted avg       0.57      0.55      0.53       500\n",
      "\n"
     ]
    },
    {
     "name": "stderr",
     "output_type": "stream",
     "text": [
      "100%|██████████| 133/133 [00:37<00:00,  3.51it/s, loss=0.463]\n",
      " 19%|█▉        | 3/16 [00:00<00:00, 21.02it/s]"
     ]
    },
    {
     "name": "stdout",
     "output_type": "stream",
     "text": [
      "Epoch:  11\n"
     ]
    },
    {
     "name": "stderr",
     "output_type": "stream",
     "text": [
      "100%|██████████| 16/16 [00:00<00:00, 22.65it/s]\n",
      "  0%|          | 0/133 [00:00<?, ?it/s, loss=0.408]"
     ]
    },
    {
     "name": "stdout",
     "output_type": "stream",
     "text": [
      "Mean loss:  0.7818790413439274\n",
      "Accuracy:  0.556\n",
      "              precision    recall  f1-score   support\n",
      "\n",
      "           0       0.54      0.84      0.65       250\n",
      "           1       0.63      0.28      0.38       250\n",
      "\n",
      "    accuracy                           0.56       500\n",
      "   macro avg       0.58      0.56      0.52       500\n",
      "weighted avg       0.58      0.56      0.52       500\n",
      "\n"
     ]
    },
    {
     "name": "stderr",
     "output_type": "stream",
     "text": [
      "100%|██████████| 133/133 [00:37<00:00,  3.51it/s, loss=0.456]\n",
      " 19%|█▉        | 3/16 [00:00<00:00, 20.91it/s]"
     ]
    },
    {
     "name": "stdout",
     "output_type": "stream",
     "text": [
      "Epoch:  12\n"
     ]
    },
    {
     "name": "stderr",
     "output_type": "stream",
     "text": [
      "100%|██████████| 16/16 [00:00<00:00, 23.14it/s]\n",
      "  0%|          | 0/133 [00:00<?, ?it/s, loss=0.415]"
     ]
    },
    {
     "name": "stdout",
     "output_type": "stream",
     "text": [
      "Mean loss:  1.0739568900316954\n",
      "Accuracy:  0.552\n",
      "              precision    recall  f1-score   support\n",
      "\n",
      "           0       0.53      0.85      0.66       250\n",
      "           1       0.63      0.25      0.36       250\n",
      "\n",
      "    accuracy                           0.55       500\n",
      "   macro avg       0.58      0.55      0.51       500\n",
      "weighted avg       0.58      0.55      0.51       500\n",
      "\n"
     ]
    },
    {
     "name": "stderr",
     "output_type": "stream",
     "text": [
      "100%|██████████| 133/133 [00:37<00:00,  3.51it/s, loss=0.445]\n",
      " 19%|█▉        | 3/16 [00:00<00:00, 20.92it/s]"
     ]
    },
    {
     "name": "stdout",
     "output_type": "stream",
     "text": [
      "Epoch:  13\n"
     ]
    },
    {
     "name": "stderr",
     "output_type": "stream",
     "text": [
      "100%|██████████| 16/16 [00:00<00:00, 23.12it/s]\n",
      "  0%|          | 0/133 [00:00<?, ?it/s, loss=0.468]"
     ]
    },
    {
     "name": "stdout",
     "output_type": "stream",
     "text": [
      "Mean loss:  1.1035843379795551\n",
      "Accuracy:  0.562\n",
      "              precision    recall  f1-score   support\n",
      "\n",
      "           0       0.55      0.66      0.60       250\n",
      "           1       0.58      0.46      0.51       250\n",
      "\n",
      "    accuracy                           0.56       500\n",
      "   macro avg       0.56      0.56      0.56       500\n",
      "weighted avg       0.56      0.56      0.56       500\n",
      "\n"
     ]
    },
    {
     "name": "stderr",
     "output_type": "stream",
     "text": [
      "100%|██████████| 133/133 [00:37<00:00,  3.51it/s, loss=0.455]\n",
      " 19%|█▉        | 3/16 [00:00<00:00, 21.22it/s]"
     ]
    },
    {
     "name": "stdout",
     "output_type": "stream",
     "text": [
      "Epoch:  14\n"
     ]
    },
    {
     "name": "stderr",
     "output_type": "stream",
     "text": [
      "100%|██████████| 16/16 [00:00<00:00, 23.25it/s]\n",
      "  0%|          | 0/133 [00:00<?, ?it/s, loss=0.62]"
     ]
    },
    {
     "name": "stdout",
     "output_type": "stream",
     "text": [
      "Mean loss:  1.1481051761657\n",
      "Accuracy:  0.566\n",
      "              precision    recall  f1-score   support\n",
      "\n",
      "           0       0.54      0.84      0.66       250\n",
      "           1       0.65      0.29      0.40       250\n",
      "\n",
      "    accuracy                           0.57       500\n",
      "   macro avg       0.60      0.57      0.53       500\n",
      "weighted avg       0.60      0.57      0.53       500\n",
      "\n"
     ]
    },
    {
     "name": "stderr",
     "output_type": "stream",
     "text": [
      "100%|██████████| 133/133 [00:38<00:00,  3.45it/s, loss=0.419]\n",
      " 19%|█▉        | 3/16 [00:00<00:00, 21.06it/s]"
     ]
    },
    {
     "name": "stdout",
     "output_type": "stream",
     "text": [
      "Epoch:  15\n"
     ]
    },
    {
     "name": "stderr",
     "output_type": "stream",
     "text": [
      "100%|██████████| 16/16 [00:00<00:00, 23.06it/s]\n",
      "  0%|          | 0/133 [00:00<?, ?it/s, loss=0.449]"
     ]
    },
    {
     "name": "stdout",
     "output_type": "stream",
     "text": [
      "Mean loss:  0.8206413239240646\n",
      "Accuracy:  0.582\n",
      "              precision    recall  f1-score   support\n",
      "\n",
      "           0       0.59      0.56      0.57       250\n",
      "           1       0.58      0.60      0.59       250\n",
      "\n",
      "    accuracy                           0.58       500\n",
      "   macro avg       0.58      0.58      0.58       500\n",
      "weighted avg       0.58      0.58      0.58       500\n",
      "\n"
     ]
    },
    {
     "name": "stderr",
     "output_type": "stream",
     "text": [
      "100%|██████████| 133/133 [00:38<00:00,  3.50it/s, loss=0.432]\n",
      " 19%|█▉        | 3/16 [00:00<00:00, 20.71it/s]"
     ]
    },
    {
     "name": "stdout",
     "output_type": "stream",
     "text": [
      "Epoch:  16\n"
     ]
    },
    {
     "name": "stderr",
     "output_type": "stream",
     "text": [
      "100%|██████████| 16/16 [00:00<00:00, 22.80it/s]\n",
      "  0%|          | 0/133 [00:00<?, ?it/s, loss=0.389]"
     ]
    },
    {
     "name": "stdout",
     "output_type": "stream",
     "text": [
      "Mean loss:  0.9060435313731432\n",
      "Accuracy:  0.558\n",
      "              precision    recall  f1-score   support\n",
      "\n",
      "           0       0.54      0.84      0.65       250\n",
      "           1       0.63      0.28      0.39       250\n",
      "\n",
      "    accuracy                           0.56       500\n",
      "   macro avg       0.58      0.56      0.52       500\n",
      "weighted avg       0.58      0.56      0.52       500\n",
      "\n"
     ]
    },
    {
     "name": "stderr",
     "output_type": "stream",
     "text": [
      "100%|██████████| 133/133 [00:38<00:00,  3.50it/s, loss=0.427]\n",
      " 19%|█▉        | 3/16 [00:00<00:00, 21.04it/s]"
     ]
    },
    {
     "name": "stdout",
     "output_type": "stream",
     "text": [
      "Epoch:  17\n"
     ]
    },
    {
     "name": "stderr",
     "output_type": "stream",
     "text": [
      "100%|██████████| 16/16 [00:00<00:00, 22.92it/s]\n",
      "  0%|          | 0/133 [00:00<?, ?it/s, loss=0.423]"
     ]
    },
    {
     "name": "stdout",
     "output_type": "stream",
     "text": [
      "Mean loss:  1.1133309304714203\n",
      "Accuracy:  0.542\n",
      "              precision    recall  f1-score   support\n",
      "\n",
      "           0       0.52      0.92      0.67       250\n",
      "           1       0.68      0.16      0.26       250\n",
      "\n",
      "    accuracy                           0.54       500\n",
      "   macro avg       0.60      0.54      0.46       500\n",
      "weighted avg       0.60      0.54      0.46       500\n",
      "\n"
     ]
    },
    {
     "name": "stderr",
     "output_type": "stream",
     "text": [
      "100%|██████████| 133/133 [00:38<00:00,  3.46it/s, loss=0.422]\n",
      " 19%|█▉        | 3/16 [00:00<00:00, 21.04it/s]"
     ]
    },
    {
     "name": "stdout",
     "output_type": "stream",
     "text": [
      "Epoch:  18\n"
     ]
    },
    {
     "name": "stderr",
     "output_type": "stream",
     "text": [
      "100%|██████████| 16/16 [00:00<00:00, 23.11it/s]\n",
      "  0%|          | 0/133 [00:00<?, ?it/s, loss=0.46]"
     ]
    },
    {
     "name": "stdout",
     "output_type": "stream",
     "text": [
      "Mean loss:  1.0514733009040356\n",
      "Accuracy:  0.57\n",
      "              precision    recall  f1-score   support\n",
      "\n",
      "           0       0.56      0.66      0.61       250\n",
      "           1       0.59      0.48      0.53       250\n",
      "\n",
      "    accuracy                           0.57       500\n",
      "   macro avg       0.57      0.57      0.57       500\n",
      "weighted avg       0.57      0.57      0.57       500\n",
      "\n"
     ]
    },
    {
     "name": "stderr",
     "output_type": "stream",
     "text": [
      "100%|██████████| 133/133 [00:37<00:00,  3.51it/s, loss=0.419]\n",
      " 19%|█▉        | 3/16 [00:00<00:00, 20.72it/s]"
     ]
    },
    {
     "name": "stdout",
     "output_type": "stream",
     "text": [
      "Epoch:  19\n"
     ]
    },
    {
     "name": "stderr",
     "output_type": "stream",
     "text": [
      "100%|██████████| 16/16 [00:00<00:00, 22.97it/s]\n",
      "  0%|          | 0/133 [00:00<?, ?it/s, loss=0.364]"
     ]
    },
    {
     "name": "stdout",
     "output_type": "stream",
     "text": [
      "Mean loss:  1.145182203501463\n",
      "Accuracy:  0.56\n",
      "              precision    recall  f1-score   support\n",
      "\n",
      "           0       0.54      0.84      0.66       250\n",
      "           1       0.64      0.28      0.39       250\n",
      "\n",
      "    accuracy                           0.56       500\n",
      "   macro avg       0.59      0.56      0.52       500\n",
      "weighted avg       0.59      0.56      0.52       500\n",
      "\n"
     ]
    },
    {
     "name": "stderr",
     "output_type": "stream",
     "text": [
      "100%|██████████| 133/133 [00:37<00:00,  3.53it/s, loss=0.414]\n",
      " 19%|█▉        | 3/16 [00:00<00:00, 20.71it/s]"
     ]
    },
    {
     "name": "stdout",
     "output_type": "stream",
     "text": [
      "Epoch:  20\n"
     ]
    },
    {
     "name": "stderr",
     "output_type": "stream",
     "text": [
      "100%|██████████| 16/16 [00:00<00:00, 22.89it/s]\n",
      "  0%|          | 0/133 [00:00<?, ?it/s, loss=0.432]"
     ]
    },
    {
     "name": "stdout",
     "output_type": "stream",
     "text": [
      "Mean loss:  1.1014114506542683\n",
      "Accuracy:  0.55\n",
      "              precision    recall  f1-score   support\n",
      "\n",
      "           0       0.53      0.94      0.68       250\n",
      "           1       0.72      0.16      0.27       250\n",
      "\n",
      "    accuracy                           0.55       500\n",
      "   macro avg       0.62      0.55      0.47       500\n",
      "weighted avg       0.62      0.55      0.47       500\n",
      "\n"
     ]
    },
    {
     "name": "stderr",
     "output_type": "stream",
     "text": [
      "100%|██████████| 133/133 [00:38<00:00,  3.50it/s, loss=0.409]\n",
      " 19%|█▉        | 3/16 [00:00<00:00, 20.99it/s]"
     ]
    },
    {
     "name": "stdout",
     "output_type": "stream",
     "text": [
      "Epoch:  21\n"
     ]
    },
    {
     "name": "stderr",
     "output_type": "stream",
     "text": [
      "100%|██████████| 16/16 [00:00<00:00, 23.08it/s]\n",
      "  0%|          | 0/133 [00:00<?, ?it/s, loss=0.478]"
     ]
    },
    {
     "name": "stdout",
     "output_type": "stream",
     "text": [
      "Mean loss:  0.8047413006424904\n",
      "Accuracy:  0.566\n",
      "              precision    recall  f1-score   support\n",
      "\n",
      "           0       0.55      0.71      0.62       250\n",
      "           1       0.59      0.42      0.49       250\n",
      "\n",
      "    accuracy                           0.57       500\n",
      "   macro avg       0.57      0.57      0.56       500\n",
      "weighted avg       0.57      0.57      0.56       500\n",
      "\n"
     ]
    },
    {
     "name": "stderr",
     "output_type": "stream",
     "text": [
      "100%|██████████| 133/133 [00:38<00:00,  3.49it/s, loss=0.401]\n",
      " 19%|█▉        | 3/16 [00:00<00:00, 21.00it/s]"
     ]
    },
    {
     "name": "stdout",
     "output_type": "stream",
     "text": [
      "Epoch:  22\n"
     ]
    },
    {
     "name": "stderr",
     "output_type": "stream",
     "text": [
      "100%|██████████| 16/16 [00:00<00:00, 23.19it/s]\n",
      "  0%|          | 0/133 [00:00<?, ?it/s, loss=0.484]"
     ]
    },
    {
     "name": "stdout",
     "output_type": "stream",
     "text": [
      "Mean loss:  1.1312827244400978\n",
      "Accuracy:  0.558\n",
      "              precision    recall  f1-score   support\n",
      "\n",
      "           0       0.54      0.82      0.65       250\n",
      "           1       0.62      0.29      0.40       250\n",
      "\n",
      "    accuracy                           0.56       500\n",
      "   macro avg       0.58      0.56      0.52       500\n",
      "weighted avg       0.58      0.56      0.52       500\n",
      "\n"
     ]
    },
    {
     "name": "stderr",
     "output_type": "stream",
     "text": [
      "100%|██████████| 133/133 [00:38<00:00,  3.48it/s, loss=0.4]  \n",
      " 19%|█▉        | 3/16 [00:00<00:00, 21.08it/s]"
     ]
    },
    {
     "name": "stdout",
     "output_type": "stream",
     "text": [
      "Epoch:  23\n"
     ]
    },
    {
     "name": "stderr",
     "output_type": "stream",
     "text": [
      "100%|██████████| 16/16 [00:00<00:00, 22.97it/s]\n",
      "  0%|          | 0/133 [00:00<?, ?it/s, loss=0.431]"
     ]
    },
    {
     "name": "stdout",
     "output_type": "stream",
     "text": [
      "Mean loss:  1.1484573259949684\n",
      "Accuracy:  0.546\n",
      "              precision    recall  f1-score   support\n",
      "\n",
      "           0       0.53      0.84      0.65       250\n",
      "           1       0.61      0.26      0.36       250\n",
      "\n",
      "    accuracy                           0.55       500\n",
      "   macro avg       0.57      0.55      0.50       500\n",
      "weighted avg       0.57      0.55      0.50       500\n",
      "\n"
     ]
    },
    {
     "name": "stderr",
     "output_type": "stream",
     "text": [
      "100%|██████████| 133/133 [00:37<00:00,  3.50it/s, loss=0.375]\n",
      " 19%|█▉        | 3/16 [00:00<00:00, 21.07it/s]"
     ]
    },
    {
     "name": "stdout",
     "output_type": "stream",
     "text": [
      "Epoch:  24\n"
     ]
    },
    {
     "name": "stderr",
     "output_type": "stream",
     "text": [
      "100%|██████████| 16/16 [00:00<00:00, 23.06it/s]\n",
      "  0%|          | 0/133 [00:00<?, ?it/s, loss=0.349]"
     ]
    },
    {
     "name": "stdout",
     "output_type": "stream",
     "text": [
      "Mean loss:  0.9514499381184578\n",
      "Accuracy:  0.558\n",
      "              precision    recall  f1-score   support\n",
      "\n",
      "           0       0.55      0.70      0.61       250\n",
      "           1       0.58      0.42      0.48       250\n",
      "\n",
      "    accuracy                           0.56       500\n",
      "   macro avg       0.56      0.56      0.55       500\n",
      "weighted avg       0.56      0.56      0.55       500\n",
      "\n"
     ]
    },
    {
     "name": "stderr",
     "output_type": "stream",
     "text": [
      "100%|██████████| 133/133 [00:37<00:00,  3.50it/s, loss=0.377]\n",
      " 19%|█▉        | 3/16 [00:00<00:00, 20.79it/s]"
     ]
    },
    {
     "name": "stdout",
     "output_type": "stream",
     "text": [
      "Epoch:  25\n"
     ]
    },
    {
     "name": "stderr",
     "output_type": "stream",
     "text": [
      "100%|██████████| 16/16 [00:00<00:00, 22.66it/s]"
     ]
    },
    {
     "name": "stdout",
     "output_type": "stream",
     "text": [
      "Mean loss:  1.0706781912595034\n",
      "Accuracy:  0.536\n",
      "              precision    recall  f1-score   support\n",
      "\n",
      "           0       0.52      0.90      0.66       250\n",
      "           1       0.63      0.18      0.28       250\n",
      "\n",
      "    accuracy                           0.54       500\n",
      "   macro avg       0.57      0.54      0.47       500\n",
      "weighted avg       0.57      0.54      0.47       500\n",
      "\n"
     ]
    },
    {
     "name": "stderr",
     "output_type": "stream",
     "text": [
      "\n"
     ]
    }
   ],
   "source": [
    "optimizer = transformers.AdamW(model.parameters(), lr=1e-6)\n",
    "\n",
    "max_accuracy = test_model(model, dev_df)\n",
    "max_state = {key: value.detach().clone() for key, value in model.state_dict().items()}\n",
    "\n",
    "for epoch in range(25):\n",
    "    total_loss = 0\n",
    "    loop = tqdm(DataLoader(DataframeDataset(train_df), shuffle=True, batch_size=64))\n",
    "    model = model.train()\n",
    "    for i, batch in enumerate(loop):\n",
    "        output = tokenizer(batch['text'], padding=True, return_tensors='pt')\n",
    "        input_ids = output['input_ids'].to(device)\n",
    "        attention_mask = output['attention_mask'].to(device)\n",
    "        labels = batch['label'].to(device)\n",
    "        output = model(input_ids, attention_mask=attention_mask, labels=labels)\n",
    "        loss = output.loss\n",
    "        total_loss += loss.item()\n",
    "        loop.set_postfix({'loss': total_loss / (i+1)})\n",
    "        loss.backward()\n",
    "        optimizer.step()\n",
    "    \n",
    "    print(\"Epoch: \", epoch+1)\n",
    "    accuracy = test_model(model, dev_df)\n",
    "    if accuracy > max_accuracy:\n",
    "        max_accuracy = accuracy\n",
    "        max_state = {key: value.detach().clone() for key, value in model.state_dict().items()}"
   ]
  },
  {
   "cell_type": "code",
   "execution_count": 9,
   "metadata": {},
   "outputs": [
    {
     "data": {
      "text/plain": [
       "<All keys matched successfully>"
      ]
     },
     "execution_count": 9,
     "metadata": {},
     "output_type": "execute_result"
    }
   ],
   "source": [
    "model.load_state_dict(max_state)"
   ]
  },
  {
   "cell_type": "code",
   "execution_count": 13,
   "metadata": {},
   "outputs": [
    {
     "name": "stderr",
     "output_type": "stream",
     "text": [
      "100%|██████████| 16/16 [00:00<00:00, 23.15it/s]"
     ]
    },
    {
     "name": "stdout",
     "output_type": "stream",
     "text": [
      "Mean loss:  0.8273804374039173\n",
      "Accuracy:  0.596\n",
      "              precision    recall  f1-score   support\n",
      "\n",
      "           0       0.59      0.62      0.61       250\n",
      "           1       0.60      0.57      0.59       250\n",
      "\n",
      "    accuracy                           0.60       500\n",
      "   macro avg       0.60      0.60      0.60       500\n",
      "weighted avg       0.60      0.60      0.60       500\n",
      "\n"
     ]
    },
    {
     "name": "stderr",
     "output_type": "stream",
     "text": [
      "\n"
     ]
    },
    {
     "data": {
      "text/plain": [
       "0.596"
      ]
     },
     "execution_count": 13,
     "metadata": {},
     "output_type": "execute_result"
    }
   ],
   "source": [
    "test_model(model, dev_df)"
   ]
  },
  {
   "cell_type": "code",
   "execution_count": 14,
   "metadata": {},
   "outputs": [],
   "source": [
    "model.save_pretrained(\"text_model_best\")"
   ]
  }
 ],
 "metadata": {
  "kernelspec": {
   "display_name": "Python 3",
   "language": "python",
   "name": "python3"
  },
  "language_info": {
   "codemirror_mode": {
    "name": "ipython",
    "version": 3
   },
   "file_extension": ".py",
   "mimetype": "text/x-python",
   "name": "python",
   "nbconvert_exporter": "python",
   "pygments_lexer": "ipython3",
   "version": "3.8.5"
  }
 },
 "nbformat": 4,
 "nbformat_minor": 4
}
