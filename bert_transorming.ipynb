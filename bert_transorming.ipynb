{
 "cells": [
  {
   "cell_type": "code",
   "execution_count": 1,
   "metadata": {},
   "outputs": [
    {
     "name": "stderr",
     "output_type": "stream",
     "text": [
      "\u001b[34m\u001b[1mwandb\u001b[0m: \u001b[33mWARNING\u001b[0m W&B installed but not logged in.  Run `wandb login` or set the WANDB_API_KEY env variable.\n"
     ]
    }
   ],
   "source": [
    "from simpletransformers.classification import ClassificationModel\n",
    "import pandas as pd\n",
    "import logging"
   ]
  },
  {
   "cell_type": "code",
   "execution_count": 2,
   "metadata": {},
   "outputs": [],
   "source": [
    "logging.basicConfig(level=logging.INFO)\n",
    "transformers_logger = logging.getLogger(\"transformers\")\n",
    "transformers_logger.setLevel(logging.WARNING)"
   ]
  },
  {
   "cell_type": "code",
   "execution_count": 3,
   "metadata": {},
   "outputs": [],
   "source": [
    "train_df = pd.read_json(\"data/train.jsonl\", lines=True).set_index(\"id\")\n",
    "train_df = pd.DataFrame(train_df, columns=['text', 'label'])\n",
    "dev_df = pd.read_json(\"data/dev.jsonl\", lines=True).set_index(\"id\")\n",
    "dev_df = pd.DataFrame(dev_df, columns=['text', 'label'])"
   ]
  },
  {
   "cell_type": "code",
   "execution_count": 6,
   "metadata": {
    "tags": []
   },
   "outputs": [
    {
     "name": "stderr",
     "output_type": "stream",
     "text": [
      "Some weights of the model checkpoint at google/bert_uncased_L-4_H-512_A-8 were not used when initializing BertForSequenceClassification: ['cls.predictions.bias', 'cls.predictions.transform.dense.weight', 'cls.predictions.transform.dense.bias', 'cls.predictions.transform.LayerNorm.weight', 'cls.predictions.transform.LayerNorm.bias', 'cls.predictions.decoder.weight', 'cls.predictions.decoder.bias', 'cls.seq_relationship.weight', 'cls.seq_relationship.bias']\n",
      "- This IS expected if you are initializing BertForSequenceClassification from the checkpoint of a model trained on another task or with another architecture (e.g. initializing a BertForSequenceClassification model from a BertForPretraining model).\n",
      "- This IS NOT expected if you are initializing BertForSequenceClassification from the checkpoint of a model that you expect to be exactly identical (initializing a BertForSequenceClassification model from a BertForSequenceClassification model).\n",
      "Some weights of BertForSequenceClassification were not initialized from the model checkpoint at google/bert_uncased_L-4_H-512_A-8 and are newly initialized: ['classifier.weight', 'classifier.bias']\n",
      "You should probably TRAIN this model on a down-stream task to be able to use it for predictions and inference.\n"
     ]
    }
   ],
   "source": [
    "model = ClassificationModel('bert', 'google/bert_uncased_L-4_H-512_A-8', args={'overwrite_output_dir': True})"
   ]
  },
  {
   "cell_type": "code",
   "execution_count": 7,
   "metadata": {
    "tags": [
     "outputPrepend"
    ]
   },
   "outputs": [
    {
     "name": "stderr",
     "output_type": "stream",
     "text": [
      "/home/akkyma/anaconda3/envs/cv_project/lib/python3.8/site-packages/simpletransformers/classification/classification_model.py:303: UserWarning: Dataframe headers not specified. Falling back to using column 0 as text and column 1 as labels.\n",
      "  warnings.warn(\n",
      "INFO:simpletransformers.classification.classification_model: Converting to features started. Cache is not used.\n",
      "100%|██████████| 100/100 [00:00<00:00, 2459.47it/s]\n",
      "Epoch 1 of 1:   0%|          | 0/1 [00:00<?, ?it/s]\n",
      "Running Epoch 0 of 1:   0%|          | 0/13 [00:00<?, ?it/s]\u001b[A\n",
      "Epochs 0/1. Running Loss:    0.8054:   0%|          | 0/13 [00:03<?, ?it/s]\u001b[A\n",
      "Epochs 0/1. Running Loss:    0.8054:   8%|▊         | 1/13 [00:03<00:46,  3.84s/it]\u001b[A\n",
      "Epochs 0/1. Running Loss:    0.8752:   8%|▊         | 1/13 [00:03<00:46,  3.84s/it]\u001b[A\n",
      "Epochs 0/1. Running Loss:    0.8752:  15%|█▌        | 2/13 [00:04<00:30,  2.75s/it]\u001b[A\n",
      "Epochs 0/1. Running Loss:    0.6971:  15%|█▌        | 2/13 [00:04<00:30,  2.75s/it]\u001b[A\n",
      "Epochs 0/1. Running Loss:    0.6971:  23%|██▎       | 3/13 [00:04<00:19,  2.00s/it]\u001b[A\n",
      "Epochs 0/1. Running Loss:    0.5265:  23%|██▎       | 3/13 [00:04<00:19,  2.00s/it]\u001b[A\n",
      "Epochs 0/1. Running Loss:    0.5265:  31%|███       | 4/13 [00:04<00:13,  1.47s/it]\u001b[A\n",
      "Epochs 0/1. Running Loss:    0.4963:  31%|███       | 4/13 [00:04<00:13,  1.47s/it]\u001b[A\n",
      "Epochs 0/1. Running Loss:    0.4963:  38%|███▊      | 5/13 [00:04<00:08,  1.10s/it]\u001b[A\n",
      "Epochs 0/1. Running Loss:    0.3530:  38%|███▊      | 5/13 [00:04<00:08,  1.10s/it]\u001b[A\n",
      "Epochs 0/1. Running Loss:    0.3530:  46%|████▌     | 6/13 [00:05<00:05,  1.18it/s]\u001b[A\n",
      "Epochs 0/1. Running Loss:    0.2835:  46%|████▌     | 6/13 [00:05<00:05,  1.18it/s]\u001b[A\n",
      "Epochs 0/1. Running Loss:    0.2835:  54%|█████▍    | 7/13 [00:05<00:04,  1.50it/s]\u001b[A\n",
      "Epochs 0/1. Running Loss:    0.4056:  54%|█████▍    | 7/13 [00:05<00:04,  1.50it/s]\u001b[A\n",
      "Epochs 0/1. Running Loss:    0.4056:  62%|██████▏   | 8/13 [00:05<00:02,  1.85it/s]\u001b[A\n",
      "Epochs 0/1. Running Loss:    0.8076:  62%|██████▏   | 8/13 [00:05<00:02,  1.85it/s]\u001b[A\n",
      "Epochs 0/1. Running Loss:    0.8076:  69%|██████▉   | 9/13 [00:05<00:01,  2.20it/s]\u001b[A\n",
      "Epochs 0/1. Running Loss:    0.2224:  69%|██████▉   | 9/13 [00:05<00:01,  2.20it/s]\u001b[A\n",
      "Epochs 0/1. Running Loss:    0.2224:  77%|███████▋  | 10/13 [00:06<00:01,  2.49it/s]\u001b[A\n",
      "Epochs 0/1. Running Loss:    0.8171:  77%|███████▋  | 10/13 [00:06<00:01,  2.49it/s]\u001b[A\n",
      "Epochs 0/1. Running Loss:    0.8171:  85%|████████▍ | 11/13 [00:06<00:00,  2.77it/s]\u001b[A\n",
      "Epochs 0/1. Running Loss:    0.4425:  85%|████████▍ | 11/13 [00:06<00:00,  2.77it/s]\u001b[A\n",
      "Epochs 0/1. Running Loss:    0.4425:  92%|█████████▏| 12/13 [00:06<00:00,  3.02it/s]\u001b[A\n",
      "Epochs 0/1. Running Loss:    1.0027:  92%|█████████▏| 12/13 [00:06<00:00,  3.02it/s]\u001b[A\n",
      "Epochs 0/1. Running Loss:    1.0027: 100%|██████████| 13/13 [00:06<00:00,  1.91it/s]\u001b[A\n",
      "/home/akkyma/anaconda3/envs/cv_project/lib/python3.8/site-packages/torch/optim/lr_scheduler.py:200: UserWarning: Please also save or load the state of the optimzer when saving or loading the scheduler.\n",
      "  warnings.warn(SAVE_STATE_WARNING, UserWarning)\n",
      "Epoch 1 of 1: 100%|██████████| 1/1 [00:07<00:00,  7.72s/it]\n",
      "INFO:simpletransformers.classification.classification_model: Training of bert model complete. Saved to outputs/.\n"
     ]
    }
   ],
   "source": [
    "model.train_model(train_df[:100])"
   ]
  },
  {
   "cell_type": "code",
   "execution_count": 9,
   "metadata": {
    "tags": []
   },
   "outputs": [
    {
     "name": "stderr",
     "output_type": "stream",
     "text": [
      "/home/akkyma/anaconda3/envs/cv_project/lib/python3.8/site-packages/simpletransformers/classification/classification_model.py:775: UserWarning: Dataframe headers not specified. Falling back to using column 0 as text and column 1 as labels.\n",
      "  warnings.warn(\n",
      "INFO:simpletransformers.classification.classification_model: Converting to features started. Cache is not used.\n",
      "100%|██████████| 500/500 [00:00<00:00, 4913.23it/s]\n",
      "Running Evaluation: 100%|██████████| 63/63 [00:03<00:00, 20.78it/s]\n",
      "/home/akkyma/anaconda3/envs/cv_project/lib/python3.8/site-packages/sklearn/metrics/_classification.py:846: RuntimeWarning: invalid value encountered in double_scalars\n",
      "  mcc = cov_ytyp / np.sqrt(cov_ytyt * cov_ypyp)\n",
      "INFO:simpletransformers.classification.classification_model:{'mcc': 0.0, 'tp': 0, 'tn': 250, 'fp': 0, 'fn': 250, 'eval_loss': 0.9635640843993142}\n"
     ]
    }
   ],
   "source": [
    "result, model_outputs, wrong_predictions = model.eval_model(dev_df)"
   ]
  },
  {
   "cell_type": "code",
   "execution_count": 13,
   "metadata": {},
   "outputs": [
    {
     "data": {
      "text/plain": [
       "dict"
      ]
     },
     "execution_count": 13,
     "metadata": {},
     "output_type": "execute_result"
    }
   ],
   "source": [
    "type(result)"
   ]
  }
 ],
 "metadata": {
  "kernelspec": {
   "display_name": "Python 3.8.5 64-bit ('cv_project': conda)",
   "language": "python",
   "name": "python38564bitcvprojectconda65665629ac024a1f81ce13ce4360f5f1"
  },
  "language_info": {
   "codemirror_mode": {
    "name": "ipython",
    "version": 3
   },
   "file_extension": ".py",
   "mimetype": "text/x-python",
   "name": "python",
   "nbconvert_exporter": "python",
   "pygments_lexer": "ipython3",
   "version": "3.8.5"
  }
 },
 "nbformat": 4,
 "nbformat_minor": 4
}
